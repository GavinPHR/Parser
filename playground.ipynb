{
 "cells": [
  {
   "cell_type": "code",
   "execution_count": 1,
   "metadata": {
    "scrolled": true
   },
   "outputs": [
    {
     "name": "stderr",
     "output_type": "stream",
     "text": [
      "Reading files: 100%|██████████| 39832/39832 [00:32<00:00, 1208.86it/s]\n",
      "Nonterminal mappings: 100%|██████████| 39832/39832 [00:02<00:00, 19545.73it/s]\n"
     ]
    }
   ],
   "source": [
    "import config\n",
    "from preprocessing import mappings, transforms, treebank_reader\n",
    "from training import pcfg, lpcfg\n",
    "\n",
    "if __name__ == '__main__':\n",
    "    config.train = treebank_reader.read(config.train_file)\n",
    "\n",
    "    config.nonterminal_map = mappings.NonterminalMap(config.train)"
   ]
  },
  {
   "cell_type": "code",
   "execution_count": 2,
   "metadata": {},
   "outputs": [],
   "source": [
    "from collections import Counter"
   ]
  },
  {
   "cell_type": "code",
   "execution_count": 3,
   "metadata": {},
   "outputs": [],
   "source": [
    "cnt = Counter()\n",
    "for tree in config.train:\n",
    "    for node in tree.postorder():\n",
    "        cnt[node.label()] += 1"
   ]
  },
  {
   "cell_type": "code",
   "execution_count": 6,
   "metadata": {},
   "outputs": [
    {
     "data": {
      "text/plain": [
       "[('ADJP+ADVP', 1),\n",
       " ('WHADVP+DT', 1),\n",
       " ('ADVP+NNS', 1),\n",
       " ('RRC+VP', 1),\n",
       " ('UCP+PP', 1),\n",
       " ('QP+PDT', 1),\n",
       " ('ADVP+VBN', 1),\n",
       " ('SBAR+RB', 1),\n",
       " ('NAC+NNS', 1),\n",
       " ('X+MD', 1),\n",
       " ('SBAR+S+VP+VBN', 1),\n",
       " ('QP+NNS', 1),\n",
       " ('VP+ADVP+IN', 1),\n",
       " ('NX+S', 1),\n",
       " ('FRAG+RB', 1),\n",
       " ('NX+S+VP', 1),\n",
       " ('NP+PRN', 1),\n",
       " ('WHNP+WRB', 1),\n",
       " ('X+SBARQ', 1),\n",
       " ('SBAR+WHADVP+WRB', 1),\n",
       " ('NP+S', 1),\n",
       " ('NP+FRAG', 1),\n",
       " ('WHNP+NN', 1),\n",
       " ('PRT+VBP', 1),\n",
       " ('SBAR+WHNP+WDT', 1),\n",
       " ('NX+CD', 1),\n",
       " ('NP+WRB', 1),\n",
       " ('QP+DT', 1),\n",
       " ('FRAG+ADJP+DT', 1),\n",
       " ('ADVP+VBD', 1),\n",
       " ('INTJ+JJ', 1),\n",
       " ('ADJP+NP', 1),\n",
       " ('INTJ+S', 1),\n",
       " ('NP+TO', 1),\n",
       " ('QP+RB', 1),\n",
       " ('FRAG+S+ADJP+JJ', 1),\n",
       " ('PRN+FRAG+WHADJP', 1),\n",
       " ('QP+RBR', 1),\n",
       " ('WHADVP+WDT', 1),\n",
       " ('S+ADVP+RBR', 1),\n",
       " ('UCP+ADJP', 1),\n",
       " ('S+ADVP+NN', 1),\n",
       " ('S+VP+MD', 1),\n",
       " ('WHNP+VBP', 1),\n",
       " ('ADVP+PRT+RP', 1),\n",
       " ('SBARQ+WHADVP+WRB', 1),\n",
       " ('PRT+RBR', 1),\n",
       " ('SBAR+SBARQ', 1),\n",
       " ('PRT|ADVP+NN', 1),\n",
       " ('NP+ADVP+DT', 1),\n",
       " ('EX', 1),\n",
       " ('NX+VBZ', 1),\n",
       " ('WHADVP+RB', 1),\n",
       " ('FRAG+UCP', 1),\n",
       " ('PRN+NP', 1),\n",
       " ('FRAG+WHNP', 1),\n",
       " ('X+VP', 1),\n",
       " ('ADVP+EX', 1),\n",
       " ('FRAG+DT', 1),\n",
       " ('FRAG+INTJ+UH', 1),\n",
       " ('NP+INTJ+UH', 1),\n",
       " ('NP+MD', 1),\n",
       " ('SQ+VP+VBD', 1),\n",
       " ('FRAG+SBARQ', 1),\n",
       " ('NX+VBG', 1),\n",
       " ('FRAG+ADJP+JJR', 1),\n",
       " ('S+VP+ADVP+IN', 1),\n",
       " ('WHNP+NNS', 1),\n",
       " ('NP+CC', 1),\n",
       " ('S+NP+CD', 1),\n",
       " ('X+PP+TO', 1),\n",
       " ('S+ADJP+VBG', 1),\n",
       " ('VP+RB', 1),\n",
       " ('VP+FRAG+ADJP+JJ', 1),\n",
       " ('CONJP+IN', 1),\n",
       " ('FRAG+WHNP+WP', 1),\n",
       " ('FRAG+NP+NNP', 1),\n",
       " ('VP+S+VP+VBZ', 1),\n",
       " ('ADVP+ADJP+JJR', 1),\n",
       " ('PRT+RBS', 1),\n",
       " ('FRAG+S+VP', 1),\n",
       " ('PRN+S+VP+VB', 1),\n",
       " ('ADJP+FW', 1),\n",
       " ('FRAG+ADJP+VBG', 1),\n",
       " ('X+WP', 2),\n",
       " ('NX+JJ', 2),\n",
       " ('FRAG+WHPP', 2),\n",
       " ('PRT+VBN', 2),\n",
       " ('ADJP+VBD', 2),\n",
       " ('X+ADVP', 2),\n",
       " ('S+VP+NNS', 2),\n",
       " ('WHNP+JJ', 2),\n",
       " ('S+VP+JJ', 2),\n",
       " ('PRT', 2),\n",
       " ('PRT|<>', 2),\n",
       " ('X+RB', 2),\n",
       " ('FRAG+WHADVP', 2),\n",
       " ('ADJP+NNS', 2),\n",
       " ('PP+NP', 2),\n",
       " ('NP+VBD', 2),\n",
       " ('SBAR+WHNP', 2),\n",
       " ('FRAG+VP+VB', 2),\n",
       " ('S+ADJP+NN', 2),\n",
       " ('ADVP+UH', 2),\n",
       " ('WHNP+QP', 2),\n",
       " ('X+NN', 2),\n",
       " ('NP+PP', 2),\n",
       " ('PRN+SBAR', 2),\n",
       " ('X+VBD', 2),\n",
       " ('LST+:', 2),\n",
       " ('NAC+NNP', 2),\n",
       " ('FRAG+ADJP', 2),\n",
       " ('S+ADVP+RB', 3),\n",
       " ('LST+JJ', 3),\n",
       " ('NX+QP', 3),\n",
       " ('NP+UH', 3),\n",
       " ('S+ADVP+JJ', 3),\n",
       " ('S+ADJP+RBR', 3),\n",
       " ('VP+ADVP+RB', 3),\n",
       " ('NP+PDT', 3),\n",
       " ('ADJP+VB', 3),\n",
       " ('ADVP+WRB', 3),\n",
       " ('FRAG+JJ', 3),\n",
       " ('VP+SBAR', 3),\n",
       " ('INTJ+WRB', 3),\n",
       " ('SBAR+FRAG', 3),\n",
       " ('VP+NNP', 4),\n",
       " ('PP+JJ', 4),\n",
       " ('NX+FW', 4),\n",
       " ('X+DT', 4),\n",
       " ('FRAG+VP', 4),\n",
       " ('ADJP+CD', 4),\n",
       " ('SQ+VP+VBZ', 4),\n",
       " ('VP+NP', 4),\n",
       " ('S+ADJP+NNP', 4),\n",
       " ('X+PP+IN', 4),\n",
       " ('NP+VBP', 4),\n",
       " ('NP+POS', 4),\n",
       " ('WHNP+JJS', 4),\n",
       " ('NP+SBAR+S+VP', 4),\n",
       " ('NX+NNPS', 4),\n",
       " ('FRAG+S', 5),\n",
       " ('LST|<>', 5),\n",
       " ('ADVP+VB', 5),\n",
       " ('VP+ADVP', 5),\n",
       " ('S+NP+PRP', 5),\n",
       " ('ADVP+JJS', 5),\n",
       " ('VP+TO', 5),\n",
       " ('S+VP+NN', 5),\n",
       " ('QP+CD', 5),\n",
       " ('WHNP+CD', 5),\n",
       " ('X+TO', 5),\n",
       " ('FRAG+NP+NN', 5),\n",
       " ('FRAG+SBAR', 5),\n",
       " ('RRC|<>', 6),\n",
       " ('ADVP+PRP', 6),\n",
       " ('X+NP', 6),\n",
       " ('FRAG+VP+VBN', 6),\n",
       " ('PRN+PP', 6),\n",
       " ('NP+WP', 6),\n",
       " ('FRAG+WHADVP+WRB', 6),\n",
       " ('FRAG+NP+DT', 6),\n",
       " ('PRT+JJ', 6),\n",
       " ('ADVP+LS', 6),\n",
       " ('SYM', 6),\n",
       " ('S+ADJP+VBN', 7),\n",
       " ('NP+S+VP', 7),\n",
       " ('NP+ADJP', 7),\n",
       " ('ADJP+RP', 7),\n",
       " ('NP+VBN', 8),\n",
       " ('S+VP+VBP', 8),\n",
       " ('FRAG+ADVP', 8),\n",
       " ('ADVP+CD', 8),\n",
       " ('FRAG+ADVP+RB', 8),\n",
       " ('X+IN', 8),\n",
       " ('S+ADVP', 8),\n",
       " ('FRAG+PP+IN', 8),\n",
       " ('S+ADJP+JJR', 9),\n",
       " ('NP+SBAR', 9),\n",
       " ('ADJP+NNP', 9),\n",
       " ('S+UCP', 9),\n",
       " ('PP+RB', 9),\n",
       " ('ADVP+CC', 10),\n",
       " ('LST+LS', 10),\n",
       " ('INTJ+VB', 10),\n",
       " ('PRN+SINV', 11),\n",
       " ('S+NP+NNS', 12),\n",
       " ('NP+SYM', 13),\n",
       " ('S+VP+VB', 14),\n",
       " ('FRAG+PP', 14),\n",
       " ('NP+RBS', 15),\n",
       " ('NP+VBZ', 15),\n",
       " ('ADJP+IN', 15),\n",
       " ('S+ADJP+RB', 15),\n",
       " ('S+VP+VBZ', 15),\n",
       " ('WHADJP|<>', 16),\n",
       " ('PP+RP', 17),\n",
       " ('INTJ+RB', 17),\n",
       " ('S+VP+VBD', 17),\n",
       " ('INTJ|<>', 19),\n",
       " ('VP+NNS', 19),\n",
       " ('LS', 20),\n",
       " ('WHADVP|<>', 20),\n",
       " ('FRAG+ADJP+JJ', 20),\n",
       " ('S+VP+TO', 21),\n",
       " ('S+NP+NN', 21),\n",
       " ('NP+PRP$', 22),\n",
       " ('LST', 23),\n",
       " ('ADJP+NN', 24),\n",
       " ('VP+JJ', 24),\n",
       " ('UH', 25),\n",
       " ('ADVP+NNP', 25),\n",
       " ('NP+RBR', 25),\n",
       " ('ADVP+DT', 26),\n",
       " ('S+PP', 26),\n",
       " ('VP+PP', 27),\n",
       " ('S+NP+NNP', 27),\n",
       " ('ADJP+JJS', 27),\n",
       " ('INTJ', 28),\n",
       " ('ADJP+VBG', 28),\n",
       " ('NP+FW', 28),\n",
       " ('ADJP+RBR', 29),\n",
       " ('WHADVP+IN', 30),\n",
       " ('SBAR+SINV', 31),\n",
       " ('ADVP+RBS', 32),\n",
       " ('PRN+S', 35),\n",
       " ('PP+TO', 37),\n",
       " ('FRAG+NP', 38),\n",
       " ('X+SYM', 39),\n",
       " ('NX+NNP', 41),\n",
       " ('SQ+VP', 42),\n",
       " ('ADVP+NN', 43),\n",
       " ('RRC', 46),\n",
       " ('VP+NN', 49),\n",
       " ('WP', 50),\n",
       " ('ADVP+JJR', 54),\n",
       " ('NP+WDT', 57),\n",
       " ('VP+MD', 58),\n",
       " ('WHADJP', 58),\n",
       " ('NP+IN', 59),\n",
       " ('WHNP+DT', 61),\n",
       " ('PRT+IN', 65),\n",
       " ('INTJ+UH', 65),\n",
       " ('ADVP+RP', 66),\n",
       " ('S+VP+VBN', 69),\n",
       " ('NP+VB', 72),\n",
       " ('X|<>', 79),\n",
       " ('WDT', 84),\n",
       " ('PRT+RB', 84),\n",
       " ('S+VP+VBG', 92),\n",
       " ('ADJP+RB', 93),\n",
       " ('RP', 93),\n",
       " ('X', 94),\n",
       " ('ADJP+VBN', 101),\n",
       " ('WHADVP', 101),\n",
       " ('PRP', 107),\n",
       " ('NX+NNS', 111),\n",
       " ('CONJP|<>', 130),\n",
       " ('NP+VBG', 137),\n",
       " ('#', 142),\n",
       " ('ADVP+JJ', 145),\n",
       " ('NX+NN', 145),\n",
       " ('WHNP|<>', 146),\n",
       " ('S+ADJP', 147),\n",
       " ('S+ADJP+JJ', 148),\n",
       " ('NP+JJR', 159),\n",
       " ('WP$', 168),\n",
       " ('ADVP+IN', 176),\n",
       " ('SBARQ', 194),\n",
       " ('FW', 201),\n",
       " ('WRB', 208),\n",
       " ('NP+JJS', 216),\n",
       " ('PP+IN', 232),\n",
       " ('NP+NNPS', 254),\n",
       " ('ADVP+RBR', 264),\n",
       " ('SBARQ|<>', 274),\n",
       " ('NP+RB', 280),\n",
       " ('SQ', 295),\n",
       " ('CONJP', 301),\n",
       " ('ADJP+JJR', 302),\n",
       " ('FRAG', 331),\n",
       " ('VP+VBG', 332),\n",
       " ('S+NP', 348),\n",
       " ('WHNP+IN', 358),\n",
       " ('PDT', 366),\n",
       " ('WHPP', 389),\n",
       " ('RBS', 403),\n",
       " ('NAC', 408),\n",
       " ('WHNP', 456),\n",
       " ('UCP', 482),\n",
       " ('NP+JJ', 511),\n",
       " ('SQ|<>', 527),\n",
       " ('VP+VBP', 605),\n",
       " ('NAC|<>', 612),\n",
       " ('FRAG|<>', 630),\n",
       " ('ADJP+QP', 700),\n",
       " ('NX|<>', 752),\n",
       " ('ADVP|<>', 768),\n",
       " ('UCP|<>', 791),\n",
       " ('NP+EX', 861),\n",
       " ('NX', 996),\n",
       " ('VP+VB', 1301),\n",
       " ('SBAR+S+VP', 1314),\n",
       " ('-LRB-', 1366),\n",
       " ('-RRB-', 1376),\n",
       " ('SBAR|<>', 1389),\n",
       " ('RBR', 1444),\n",
       " ('VP+VBN', 1628),\n",
       " ('JJS', 1695),\n",
       " ('WHADVP+WRB', 1919),\n",
       " ('SINV', 1985),\n",
       " ('VP+VBZ', 2252),\n",
       " ('WHNP+WP', 2304),\n",
       " ('NP+DT', 2338),\n",
       " ('PRN', 2362),\n",
       " ('NNPS', 2415),\n",
       " ('PRT+RP', 2478),\n",
       " ('VP+VBD', 2637),\n",
       " ('ADJP|<>', 2701),\n",
       " ('JJR', 2712),\n",
       " ('ADJP+JJ', 2911),\n",
       " ('PRN|<>', 2920),\n",
       " ('QP', 3512),\n",
       " ('NP+CD', 3691),\n",
       " ('PP|<>', 3752),\n",
       " ('WHNP+WDT', 4151),\n",
       " ('ADVP', 4666),\n",
       " (':', 4770),\n",
       " ('NP+QP', 5217),\n",
       " ('SBAR+S', 6576),\n",
       " (\"''\", 6919),\n",
       " ('``', 7092),\n",
       " ('$', 7372),\n",
       " ('SINV|<>', 7700),\n",
       " ('PRP$', 8385),\n",
       " ('POS', 8697),\n",
       " ('QP|<>', 9089),\n",
       " ('MD', 9742),\n",
       " ('ADJP', 9779),\n",
       " ('VBP', 11872),\n",
       " ('NP+NNP', 12547),\n",
       " ('NP+NNS', 13306),\n",
       " ('NP+NN', 13560),\n",
       " ('ADVP+RB', 14214),\n",
       " ('VBG', 14254),\n",
       " ('RB', 16237),\n",
       " ('NP+PRP', 17318),\n",
       " ('VBN', 18201),\n",
       " ('VBZ', 19384),\n",
       " ('SBAR', 19970),\n",
       " ('S+VP', 21982),\n",
       " ('TO', 22287),\n",
       " ('CC', 23936),\n",
       " ('VB', 25030),\n",
       " ('VBD', 27227),\n",
       " ('CD', 32853),\n",
       " ('.', 39478),\n",
       " ('NNS', 46400),\n",
       " (',', 48727),\n",
       " ('VP|<>', 56502),\n",
       " ('JJ', 57430),\n",
       " ('S', 64422),\n",
       " ('NNP', 78806),\n",
       " ('DT', 79402),\n",
       " ('S|<>', 82315),\n",
       " ('PP', 94300),\n",
       " ('IN', 97596),\n",
       " ('VP', 113419),\n",
       " ('NN', 119076),\n",
       " ('NP|<>', 143286),\n",
       " ('NP', 240504)]"
      ]
     },
     "execution_count": 6,
     "metadata": {},
     "output_type": "execute_result"
    }
   ],
   "source": [
    "cnt.most_common()[::-1]"
   ]
  },
  {
   "cell_type": "code",
   "execution_count": 24,
   "metadata": {},
   "outputs": [],
   "source": [
    "cut = set()\n",
    "for nt, c in cnt.most_common()[::-1]:\n",
    "    if c < 10:\n",
    "        cut.add(nt)\n",
    "    else:\n",
    "        break"
   ]
  },
  {
   "cell_type": "code",
   "execution_count": 25,
   "metadata": {},
   "outputs": [
    {
     "data": {
      "text/plain": [
       "182"
      ]
     },
     "execution_count": 25,
     "metadata": {},
     "output_type": "execute_result"
    }
   ],
   "source": [
    "len(cut)"
   ]
  },
  {
   "cell_type": "code",
   "execution_count": 16,
   "metadata": {},
   "outputs": [],
   "source": [
    "new_train = []\n",
    "for tree in config.train:\n",
    "    add = True\n",
    "    for node in tree.postorder():\n",
    "        if node.label() in cut:\n",
    "            add = False\n",
    "    if add:\n",
    "        new_train.append(tree)"
   ]
  },
  {
   "cell_type": "code",
   "execution_count": 17,
   "metadata": {},
   "outputs": [
    {
     "data": {
      "text/plain": [
       "39832"
      ]
     },
     "execution_count": 17,
     "metadata": {},
     "output_type": "execute_result"
    }
   ],
   "source": [
    "len(config.train)"
   ]
  },
  {
   "cell_type": "code",
   "execution_count": 18,
   "metadata": {},
   "outputs": [
    {
     "data": {
      "text/plain": [
       "39343"
      ]
     },
     "execution_count": 18,
     "metadata": {},
     "output_type": "execute_result"
    }
   ],
   "source": [
    "len(new_train)"
   ]
  },
  {
   "cell_type": "code",
   "execution_count": 1,
   "metadata": {},
   "outputs": [],
   "source": [
    "%matplotlib inline"
   ]
  },
  {
   "cell_type": "code",
   "execution_count": 2,
   "metadata": {},
   "outputs": [],
   "source": [
    "import matplotlib.pyplot as plt"
   ]
  },
  {
   "cell_type": "code",
   "execution_count": 3,
   "metadata": {},
   "outputs": [
    {
     "name": "stderr",
     "output_type": "stream",
     "text": [
      "15:30:20 - TreebankReader starts reading file.\n",
      "100%|██████████| 842/842 [00:00<00:00, 1346.70it/s]\n",
      "15:30:21 - TreebankReader finishes reading file.\n",
      "15:30:21 - Creating mappings between non-terminals and ints.\n",
      "nonterminal_map: 100%|██████████| 842/842 [00:00<00:00, 23927.99it/s]\n",
      "15:30:21 - Finished creating mappings.\n",
      "15:30:21 - Creating mappings between terminals and ints.\n",
      "100%|██████████| 9/9 [00:00<00:00, 272.27it/s]\n",
      "15:30:21 - Finished creating mappings.\n",
      "15:30:21 - Transforming str/int trees to int/str trees.\n",
      "100%|██████████| 842/842 [00:00<00:00, 5101.64it/s]\n",
      "15:30:21 - Finished transforming trees.\n"
     ]
    }
   ],
   "source": [
    "import config\n",
    "from preprocessing import mappings, transforms, treebank_reader\n",
    "from training import parameter, rules, rules_and_count\n",
    "\n",
    "tb = treebank_reader.TreebankReader(config.train_file)\n",
    "config.train = tb.read()\n",
    "\n",
    "config.nonterminal_map = mappings.NonterminalMap(config.train)\n",
    "config.terminal_map = mappings.TerminalMap(config.train, len(config.nonterminal_map))\n",
    "transforms.transform_trees()"
   ]
  },
  {
   "cell_type": "code",
   "execution_count": 4,
   "metadata": {},
   "outputs": [],
   "source": [
    "from collections import Counter, defaultdict\n",
    "import numpy as np\n",
    "import scipy as sp\n",
    "from tqdm import tqdm"
   ]
  },
  {
   "cell_type": "code",
   "execution_count": 5,
   "metadata": {},
   "outputs": [],
   "source": [
    "c = Counter()\n",
    "for tree in config.train:\n",
    "    for node in tree.postorder():\n",
    "        c[node.label()] += 1"
   ]
  },
  {
   "cell_type": "code",
   "execution_count": 6,
   "metadata": {},
   "outputs": [],
   "source": [
    "d = len(config.nonterminal_map)"
   ]
  },
  {
   "cell_type": "code",
   "execution_count": 161,
   "metadata": {},
   "outputs": [],
   "source": [
    "fi = defaultdict(list)\n",
    "fo = defaultdict(list)"
   ]
  },
  {
   "cell_type": "code",
   "execution_count": 162,
   "metadata": {},
   "outputs": [
    {
     "name": "stderr",
     "output_type": "stream",
     "text": [
      "100%|██████████| 842/842 [00:17<00:00, 48.43it/s]\n"
     ]
    }
   ],
   "source": [
    "for tree in tqdm(config.train):\n",
    "    for node in tree.postorder():\n",
    "        x = np.zeros(6*d, dtype=np.float32)\n",
    "        \n",
    "        if len(node) == 2:\n",
    "            l, r = node[0], node[1]\n",
    "            x[0*d + l.label()] = 10\n",
    "            x[1*d + r.label()] = 10\n",
    "            if len(l) == 2:\n",
    "                ll, lr = l[0], l[1]\n",
    "                x[2*d + ll.label()] = 10\n",
    "                x[3*d + lr.label()] = 10\n",
    "            if len(r) == 2:\n",
    "                rl, rr = r[0], r[1]\n",
    "                x[4*d + rl.label()] = 10\n",
    "                x[5*d + rr.label()] = 10\n",
    "                \n",
    "        y = np.zeros(6*d, dtype=np.float32)\n",
    "        cur, parent = node, node.parent()\n",
    "        i = 0\n",
    "        while i < 2 and parent is not None:\n",
    "            k = 3*i\n",
    "            y[k*d + parent.label()] = 10\n",
    "            if cur is parent[0]:\n",
    "                y[(k+2)*d + parent[1].label()] = 10\n",
    "            else:\n",
    "                y[(k+1)*d + parent[0].label()] = 10\n",
    "            i += 1\n",
    "            cur, parent = parent, parent.parent()\n",
    "        \n",
    "        fi[node.label()].append(sp.sparse.csr_matrix(x))\n",
    "        fo[node.label()].append(sp.sparse.csr_matrix(y))"
   ]
  },
  {
   "cell_type": "code",
   "execution_count": 163,
   "metadata": {},
   "outputs": [],
   "source": [
    "for k, v in fi.items():\n",
    "    fi[k] = sp.sparse.vstack(v)\n",
    "for k, v in fo.items():\n",
    "    fo[k] = sp.sparse.vstack(v)"
   ]
  },
  {
   "cell_type": "code",
   "execution_count": 164,
   "metadata": {},
   "outputs": [],
   "source": [
    "from sklearn.cluster import MiniBatchKMeans"
   ]
  },
  {
   "cell_type": "code",
   "execution_count": 174,
   "metadata": {},
   "outputs": [],
   "source": [
    "km = MiniBatchKMeans(n_clusters=8)"
   ]
  },
  {
   "cell_type": "code",
   "execution_count": 180,
   "metadata": {},
   "outputs": [
    {
     "data": {
      "text/plain": [
       "Counter({1: 325, 2: 313, 7: 88, 0: 21, 6: 357, 3: 125, 5: 97, 4: 82})"
      ]
     },
     "execution_count": 180,
     "metadata": {},
     "output_type": "execute_result"
    }
   ],
   "source": [
    "Counter(km.fit_predict(fi[0]))"
   ]
  },
  {
   "cell_type": "code",
   "execution_count": 181,
   "metadata": {},
   "outputs": [
    {
     "data": {
      "text/plain": [
       "Counter({0: 854, 7: 65, 4: 38, 2: 149, 5: 155, 1: 45, 3: 87, 6: 15})"
      ]
     },
     "execution_count": 181,
     "metadata": {},
     "output_type": "execute_result"
    }
   ],
   "source": [
    "Counter(km.fit_predict(fo[0]))"
   ]
  },
  {
   "cell_type": "code",
   "execution_count": 182,
   "metadata": {},
   "outputs": [
    {
     "data": {
      "text/plain": [
       "array([1, 3, 7, ..., 1, 7, 4], dtype=int32)"
      ]
     },
     "execution_count": 182,
     "metadata": {},
     "output_type": "execute_result"
    }
   ],
   "source": [
    "km.fit_predict(fi[0])"
   ]
  },
  {
   "cell_type": "code",
   "execution_count": 185,
   "metadata": {},
   "outputs": [
    {
     "data": {
      "image/png": "[encoded data removed]",
      "text/plain": [
       "TContainer(0, [TContainer(2, [TContainer(2, [TContainer(2, [TContainer(5, [TContainer(12, [166]), TContainer(32, [187])]), TContainer(19, [179])]), TContainer(4, [TContainer(13, [TContainer(11, [188]), TContainer(6, [189])]), TContainer(38, [190])])]), TContainer(3, [TContainer(28, [768]), TContainer(30, [TContainer(12, [191]), TContainer(0, [TContainer(2, [TContainer(0, [TContainer(4, [TContainer(13, [TContainer(4, [TContainer(40, [769]), TContainer(6, [192])]), TContainer(5, [TContainer(12, [183]), TContainer(4, [TContainer(39, [193]), TContainer(38, [194])])])]), TContainer(5, [TContainer(12, [166]), TContainer(4, [TContainer(13, [TContainer(4, [TContainer(11, [195]), TContainer(18, [196])]), TContainer(37, [197])]), TContainer(36, [767])])])]), TContainer(3, [TContainer(14, [198]), TContainer(4, [TContainer(11, [167]), TContainer(6, [765])])])]), TContainer(35, [199])]), TContainer(0, [TContainer(2, [TContainer(10, [766]), TContainer(15, [200])]), TContainer(3, [TContainer(8, [TContainer(34, [201]), TContainer(27, [202])]), TContainer(3, [TContainer(25, [203]), TContainer(22, [TContainer(7, [763]), TContainer(23, [TContainer(24, [175]), TContainer(3, [TContainer(8, [TContainer(25, [204]), TContainer(33, [205])]), TContainer(5, [TContainer(12, [206]), TContainer(4, [TContainer(32, [192]), TContainer(5, [TContainer(12, [166]), TContainer(4, [TContainer(13, [TContainer(13, [TContainer(13, [TContainer(11, [195]), TContainer(31, [207])]), TContainer(7, [763])]), TContainer(7, [763])]), TContainer(6, [208])])])])])])])])])])])])])])]), TContainer(1, [170])])"
      ]
     },
     "execution_count": 185,
     "metadata": {},
     "output_type": "execute_result"
    }
   ],
   "source": [
    "config.train[2]"
   ]
  },
  {
   "cell_type": "code",
   "execution_count": null,
   "metadata": {},
   "outputs": [],
   "source": []
  }
 ],
 "metadata": {
  "kernelspec": {
   "display_name": "Python 3",
   "language": "python",
   "name": "python3"
  },
  "language_info": {
   "codemirror_mode": {
    "name": "ipython",
    "version": 3
   },
   "file_extension": ".py",
   "mimetype": "text/x-python",
   "name": "python",
   "nbconvert_exporter": "python",
   "pygments_lexer": "ipython3",
   "version": "3.8.5"
  }
 },
 "nbformat": 4,
 "nbformat_minor": 4
}
