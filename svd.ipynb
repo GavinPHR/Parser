{
 "cells": [
  {
   "cell_type": "code",
   "execution_count": 1,
   "metadata": {},
   "outputs": [
    {
     "name": "stderr",
     "output_type": "stream",
     "text": [
      "Reading files: 100%|██████████| 39832/39832 [00:32<00:00, 1212.04it/s]\n",
      "Nonterminal mappings: 100%|██████████| 39092/39092 [00:01<00:00, 19682.75it/s]\n",
      "Transform from strs to ints: 100%|██████████| 39092/39092 [00:06<00:00, 6273.98it/s]\n",
      "100%|██████████| 39092/39092 [08:41<00:00, 74.96it/s] \n",
      "Doing SVDs:   1%|          | 1/170 [00:00<01:04,  2.62it/s]"
     ]
    },
    {
     "name": "stdout",
     "output_type": "stream",
     "text": [
      "IN [102.3414778  109.46667854 115.87191097 117.91411101 123.9965708\n",
      " 138.47320797 147.72783964 162.7006207  168.72332994 242.31222034\n",
      " 446.88201833]\n"
     ]
    },
    {
     "name": "stderr",
     "output_type": "stream",
     "text": [
      "\r",
      "Doing SVDs:   1%|          | 2/170 [00:00<01:00,  2.79it/s]"
     ]
    },
    {
     "name": "stdout",
     "output_type": "stream",
     "text": [
      "DT [100.19829193 106.0208456  110.43248999 117.21437789 120.68063111\n",
      " 129.74464956 137.08258445 172.86663025 195.11147424 266.386941\n",
      " 395.97861685]\n"
     ]
    },
    {
     "name": "stderr",
     "output_type": "stream",
     "text": [
      "\r",
      "Doing SVDs:   2%|▏         | 3/170 [00:00<00:54,  3.05it/s]"
     ]
    },
    {
     "name": "stdout",
     "output_type": "stream",
     "text": [
      "NNP [103.88146882 107.58339967 116.92154743 129.71754615 136.61743786\n",
      " 138.39754495 142.80886387 161.9683066  194.09263529 244.78926417\n",
      " 332.86118452]\n"
     ]
    },
    {
     "name": "stderr",
     "output_type": "stream",
     "text": [
      "\r",
      "Doing SVDs:   2%|▏         | 4/170 [00:01<01:09,  2.37it/s]"
     ]
    },
    {
     "name": "stdout",
     "output_type": "stream",
     "text": [
      "NP|<> [100.8364101  103.89103272 109.61437913 113.60560543 117.61044971\n",
      " 124.44730892 130.75963978 133.12630889 140.24978187 142.1888928\n",
      " 147.55152798 151.79984263 159.69917057 165.63812266 174.1348471\n",
      " 184.30418108 207.59314526 245.01280527 261.28560663 313.31612895\n",
      " 316.83357375 510.90896545]\n"
     ]
    },
    {
     "name": "stderr",
     "output_type": "stream",
     "text": [
      "\r",
      "Doing SVDs:   3%|▎         | 5/170 [00:01<00:59,  2.79it/s]"
     ]
    },
    {
     "name": "stdout",
     "output_type": "stream",
     "text": [
      "CD [108.35055854 121.41599177 122.56304195 138.51538144 173.12782271]\n"
     ]
    },
    {
     "name": "stderr",
     "output_type": "stream",
     "text": [
      "\r",
      "Doing SVDs:   4%|▎         | 6/170 [00:02<01:02,  2.63it/s]"
     ]
    },
    {
     "name": "stdout",
     "output_type": "stream",
     "text": [
      "NN [104.82899541 110.23871672 116.30960816 119.73046029 128.93571632\n",
      " 140.01793129 156.29298164 159.73178594 174.23261007 198.25974439\n",
      " 213.85332345 265.97915584 421.59564069]\n"
     ]
    },
    {
     "name": "stderr",
     "output_type": "stream",
     "text": [
      "Doing SVDs:   5%|▌         | 9/170 [00:03<01:09,  2.33it/s]"
     ]
    },
    {
     "name": "stdout",
     "output_type": "stream",
     "text": [
      "NP [116.01808229 117.28056444 121.14937395 126.32380559 128.39221361\n",
      " 131.92275474 135.60500669 137.06385567 138.29160326 140.278142\n",
      " 149.1799398  153.01160469 154.58181707 159.4236311  159.76590062\n",
      " 167.50700464 172.69115672 178.55181566 187.04459961 194.78428428\n",
      " 203.25280429 212.0636039  217.97103281 227.00745821 234.71888497\n",
      " 245.46748732 280.43594878 285.9351286  325.61065649 347.8831912\n",
      " 387.96704785 589.70575092]\n",
      "`` [121.93451232]\n",
      "'' [110.69767685]\n",
      "POS [173.27649584]\n"
     ]
    },
    {
     "name": "stderr",
     "output_type": "stream",
     "text": [
      "Doing SVDs:   8%|▊         | 14/170 [00:04<00:43,  3.56it/s]"
     ]
    },
    {
     "name": "stdout",
     "output_type": "stream",
     "text": [
      "PP [100.72610213 106.54971349 109.72865236 118.36282814 123.81403649\n",
      " 128.73267312 133.59127483 139.78235514 144.80636844 151.78078661\n",
      " 162.35611331 166.54857856 167.74503482 185.3119511  243.31680866\n",
      " 504.68439604]\n",
      "-LRB- [64.85814965]\n",
      "PRN|<> [79.56838364]\n",
      "VBN [104.04919899 165.77285727]\n"
     ]
    },
    {
     "name": "stderr",
     "output_type": "stream",
     "text": [
      "\r",
      "Doing SVDs:   9%|▉         | 15/170 [00:04<00:40,  3.78it/s]"
     ]
    },
    {
     "name": "stdout",
     "output_type": "stream",
     "text": [
      "NNS [105.68883266 111.61192142 122.12221863 158.97335472 273.47020489]\n",
      "VBP [143.44623236]\n"
     ]
    },
    {
     "name": "stderr",
     "output_type": "stream",
     "text": [
      "\r",
      "Doing SVDs:  10%|█         | 17/170 [00:04<00:37,  4.13it/s]"
     ]
    },
    {
     "name": "stdout",
     "output_type": "stream",
     "text": [
      "VP|<> [102.49028394 104.61390493 112.05599716 126.44433289 136.08721988\n",
      " 143.28805201 156.35078888 174.5602359  203.31171786 315.33771787]\n"
     ]
    },
    {
     "name": "stderr",
     "output_type": "stream",
     "text": [
      "\r",
      "Doing SVDs:  11%|█         | 18/170 [00:05<00:51,  2.98it/s]"
     ]
    },
    {
     "name": "stdout",
     "output_type": "stream",
     "text": [
      "VP [100.06883023 101.13418922 102.51622673 106.02474915 109.81037057\n",
      " 111.81701064 116.89016439 120.20818917 124.0281264  132.2859851\n",
      " 143.37677599 145.81690848 146.16470453 147.88806577 162.6820805\n",
      " 168.80629227 178.50823489 185.40555256 218.13718472 240.03463243\n",
      " 243.35000598 298.79706202 416.5242852 ]\n"
     ]
    },
    {
     "name": "stderr",
     "output_type": "stream",
     "text": [
      "\r",
      "Doing SVDs:  11%|█         | 19/170 [00:05<00:50,  3.01it/s]"
     ]
    },
    {
     "name": "stdout",
     "output_type": "stream",
     "text": [
      "S [103.6675009  129.24582448 142.15932556 148.99620545 248.96203957\n",
      " 389.03767363]\n"
     ]
    },
    {
     "name": "stderr",
     "output_type": "stream",
     "text": [
      "Doing SVDs:  12%|█▏        | 21/170 [00:05<00:39,  3.79it/s]"
     ]
    },
    {
     "name": "stdout",
     "output_type": "stream",
     "text": [
      ", [120.50278346 131.14159324 142.60047707 210.90430157 313.89088804]\n",
      "CC [113.16323233 140.68588117 204.70417716]\n",
      "-RRB- [62.80744112]\n",
      "PRN [85.91012682]\n"
     ]
    },
    {
     "name": "stderr",
     "output_type": "stream",
     "text": [
      "Doing SVDs:  15%|█▍        | 25/170 [00:06<00:27,  5.23it/s]"
     ]
    },
    {
     "name": "stdout",
     "output_type": "stream",
     "text": [
      "S|<> [105.38466224 107.14331222 110.09442916 114.59344136 129.77202997\n",
      " 132.59221716 139.46886615 211.50043127 241.24816106 305.9339782\n",
      " 409.88556215]\n",
      "NP+NNP [113.88502085]\n"
     ]
    },
    {
     "name": "stderr",
     "output_type": "stream",
     "text": [
      "Doing SVDs:  16%|█▌        | 27/170 [00:06<00:23,  5.99it/s]"
     ]
    },
    {
     "name": "stdout",
     "output_type": "stream",
     "text": [
      "VBD [111.99389486 155.51933107 213.41008826]\n",
      "ADVP+RB [105.96536834 129.85806348]\n"
     ]
    },
    {
     "name": "stderr",
     "output_type": "stream",
     "text": [
      "Doing SVDs:  17%|█▋        | 29/170 [00:07<00:22,  6.33it/s]"
     ]
    },
    {
     "name": "stdout",
     "output_type": "stream",
     "text": [
      "TO [130.13709146 231.6866197 ]\n",
      ". [321.61953679]\n"
     ]
    },
    {
     "name": "stderr",
     "output_type": "stream",
     "text": [
      "Doing SVDs:  19%|█▉        | 32/170 [00:07<00:17,  8.03it/s]"
     ]
    },
    {
     "name": "stdout",
     "output_type": "stream",
     "text": [
      "VBZ [103.58575806 109.33892534 188.65960319]\n",
      "NNPS [59.31165639]\n",
      "NP+PRP [122.16941653 154.93037036]\n",
      "PRP$ [120.26779193]\n"
     ]
    },
    {
     "name": "stderr",
     "output_type": "stream",
     "text": [
      "Doing SVDs:  22%|██▏       | 38/170 [00:07<00:12, 10.93it/s]"
     ]
    },
    {
     "name": "stdout",
     "output_type": "stream",
     "text": [
      "VB [125.69363169 141.649517   205.83512306]\n",
      "ADJP+JJ [53.59255072]\n",
      "QP [87.67421143]\n",
      "NP+CD [70.04483835]\n",
      "SBAR+S [160.04743412]\n"
     ]
    },
    {
     "name": "stderr",
     "output_type": "stream",
     "text": [
      "\r",
      "Doing SVDs:  24%|██▎       | 40/170 [00:08<00:15,  8.59it/s]"
     ]
    },
    {
     "name": "stdout",
     "output_type": "stream",
     "text": [
      "JJ [105.29011165 112.69875883 119.32216456 166.13898674 171.0459529\n",
      " 311.58659757]\n",
      "NP+NN [114.71576869]\n",
      "PP|<> [88.10850784]\n"
     ]
    },
    {
     "name": "stderr",
     "output_type": "stream",
     "text": [
      "Doing SVDs:  26%|██▌       | 44/170 [00:08<00:12, 10.07it/s]"
     ]
    },
    {
     "name": "stdout",
     "output_type": "stream",
     "text": [
      "ADJP [110.90920381]\n",
      "MD [153.27132362]\n",
      "RB [123.88495875]\n"
     ]
    },
    {
     "name": "stderr",
     "output_type": "stream",
     "text": [
      "\r",
      "Doing SVDs:  28%|██▊       | 48/170 [00:08<00:09, 12.28it/s]"
     ]
    },
    {
     "name": "stdout",
     "output_type": "stream",
     "text": [
      "VP+VBN [51.26804382]\n",
      "UCP|<> [34.95121355]\n",
      "UCP [41.56774963]\n",
      "NP+NNS [105.65213552]\n"
     ]
    },
    {
     "name": "stderr",
     "output_type": "stream",
     "text": [
      "\r",
      "Doing SVDs:  29%|██▉       | 50/170 [00:08<00:12,  9.64it/s]"
     ]
    },
    {
     "name": "stdout",
     "output_type": "stream",
     "text": [
      "VBG [121.50855752]\n",
      "S+VP [111.48730755 142.97064606 206.97010191]\n",
      "VP+VBP [26.4528575]\n",
      "WHNP+IN [39.32944075]\n",
      "SBAR|<> [56.5657897]\n"
     ]
    },
    {
     "name": "stderr",
     "output_type": "stream",
     "text": [
      "Doing SVDs:  35%|███▌      | 60/170 [00:09<00:07, 15.08it/s]"
     ]
    },
    {
     "name": "stdout",
     "output_type": "stream",
     "text": [
      "SBAR [140.7626308  221.74555059]\n",
      "ADVP+RBR [18.02409308]\n",
      "ADVP|<> [44.4198857]\n",
      "RBR [41.1392132]\n",
      "ADVP [82.92700144]\n",
      "NP+JJ [25.95076671]\n",
      ": [80.72900077]\n",
      "SINV|<> [102.28198684 158.39536756]\n",
      "VP+VBD [75.863329]\n",
      "SINV [92.11068199]\n",
      "WHNP+WP [81.93463773]\n"
     ]
    },
    {
     "name": "stderr",
     "output_type": "stream",
     "text": [
      "Doing SVDs:  42%|████▏     | 72/170 [00:09<00:04, 23.90it/s]"
     ]
    },
    {
     "name": "stdout",
     "output_type": "stream",
     "text": [
      "WHNP+WDT [118.55680974]\n",
      "JJR [54.42164653]\n",
      "NP+NNPS [17.36484235]\n",
      "PP+TO [9.01685796]\n",
      "ADVP+RBS [9.61813237]\n",
      "QP|<> [147.10330151]\n",
      "NP+JJR [17.94912648]\n",
      "RBS [35.97213212]\n",
      "ADJP|<> [66.34872901]\n",
      "FRAG [28.16430238]\n",
      "NAC|<> [47.27655985]\n",
      "NAC [44.3350885]\n",
      "JJS [56.50502603]\n",
      "$ [159.97649354]\n"
     ]
    },
    {
     "name": "stderr",
     "output_type": "stream",
     "text": [
      "Doing SVDs:  57%|█████▋    | 97/170 [00:09<00:01, 38.41it/s]"
     ]
    },
    {
     "name": "stdout",
     "output_type": "stream",
     "text": [
      "NP+QP [140.97688788]\n",
      "PRT+RP [76.02120793]\n",
      "S+PP [9.81820552]\n",
      "VP+VB [41.66323912]\n",
      "S+NP [34.38609264]\n",
      "VP+VBZ [77.22618949]\n",
      "RP [11.02852124]\n",
      "NX [46.18951413]\n",
      "FRAG|<> [38.83375392]\n",
      "NX+NN [19.52592782]\n",
      "PP+IN [16.62725751]\n",
      "S+ADJP [18.27118325]\n",
      "ADJP+RB [8.9885675]\n",
      "WHPP [41.27132217]\n",
      "FW [16.83305954]\n",
      "SBAR+S+VP [73.16393079]\n",
      "SBAR+SINV [12.14561034]\n",
      "NP+WDT [12.98893496]\n",
      "NP+DT [50.67571614]\n",
      "SQ|<> [31.54893172]\n",
      "WHADVP+WRB [73.51587977]\n",
      "SQ [28.87261175]\n",
      "NX|<> [40.25286028]\n",
      "SQ+VP [12.14870768]\n",
      "SBARQ|<> [22.84656752]\n",
      "SBARQ [22.86127324]\n",
      "NP+FW [6.85981867]\n",
      "S+ADJP+JJ [17.51472423]\n",
      "WRB [22.13145138]\n",
      "WHADVP [16.81074984]\n",
      "NP+EX [47.06062836]\n",
      "NP+RB [18.50327442]\n",
      "CONJP [30.22211609]\n",
      "ADJP+QP [68.27212381]\n",
      "NP+JJS [25.17286995]\n",
      "ADJP+JJR [18.0531894]\n",
      "FRAG+NP [9.34826291]\n",
      "NX+NNS [15.60616324]\n",
      "PRP [11.31814703]\n",
      "ADVP+JJR [8.78761307]\n",
      "WHADJP [12.16680456]\n",
      "NP+VB [9.53681079]\n",
      "VP+NN [8.69364985]\n",
      "ADJP+VBN [10.92164446]\n",
      "# [24.34908374]\n",
      "VP+VBG [22.4643706]\n",
      "WHNP [31.95030511]\n",
      "CONJP|<> [27.8148639]\n"
     ]
    },
    {
     "name": "stderr",
     "output_type": "stream",
     "text": [
      "Doing SVDs: 100%|██████████| 170/170 [00:09<00:00, 17.36it/s]\n"
     ]
    },
    {
     "name": "stdout",
     "output_type": "stream",
     "text": [
      "VP+JJ [6.29209384]\n",
      "S+NP+NN [6.11992208]\n",
      "NP+IN [10.19660882]\n",
      "NP+VBG [13.53411269]\n",
      "ADVP+RP [9.5877748]\n",
      "PRN+S [11.39014965]\n",
      "PDT [31.52650749]\n",
      "PRT+RB [11.55282677]\n",
      "ADJP+JJS [6.66881267]\n",
      "ADVP+IN [14.33864678]\n",
      "WDT [12.34253905]\n",
      "INTJ+UH [10.3125262]\n",
      "WP$ [22.20632444]\n",
      "X [12.21435361]\n",
      "NP+PRP$ [6.96886124]\n",
      "S+VP+VBN [12.31238889]\n",
      "WP [10.11846034]\n",
      "FRAG+ADJP+JJ [7.75029606]\n",
      "ADVP+NN [7.44400119]\n",
      "S+NP+NNP [9.43006798]\n",
      "S+VP+TO [7.44094594]\n",
      "WHADVP+IN [11.10249517]\n",
      "WHNP|<> [19.95424591]\n",
      "S+VP+VBG [10.51176828]\n",
      "RRC [11.65558975]\n",
      "VP+PP [12.10898285]\n",
      "WHNP+DT [14.27361125]\n",
      "ADVP+JJ [11.03126002]\n",
      "NX+NNP [8.77236148]\n",
      "ADJP+VBG [6.4170782]\n",
      "VP+MD [10.51136663]\n",
      "WHADVP|<> [7.91908234]\n",
      "NP+RBR [7.735973]\n",
      "ADVP+NNP [10.58155228]\n",
      "ADVP+DT [7.18687699]\n",
      "X|<> [11.69151784]\n",
      "ADJP+RBR [5.89933965]\n",
      "X+SYM [7.99579786]\n",
      "PRT+IN [11.15318674]\n",
      "UH [5.20518719]\n",
      "INTJ [4.74508412]\n",
      "ADJP+NN [5.02517385]\n",
      "LS [8.05512034]\n",
      "LST [8.63975558]\n"
     ]
    }
   ],
   "source": [
    "import config\n",
    "from preprocessing import mappings, transforms, treebank_reader\n",
    "from training import pcfg\n",
    "\n",
    "config.train = treebank_reader.read(config.train_file, cutoff=True)\n",
    "\n",
    "config.nonterminal_map = mappings.NonterminalMap(config.train)\n",
    "config.terminal_map = mappings.TerminalMap(config.train, len(config.nonterminal_map))\n",
    "transforms.transform_trees(config.train)\n",
    "config.pcfg = pcfg.PCFG()\n",
    "from training_ import netflix"
   ]
  },
  {
   "cell_type": "code",
   "execution_count": 13,
   "metadata": {},
   "outputs": [
    {
     "data": {
      "image/png": "[encoded data removed]",
      "text/plain": [
       "ParentedNormalTree('S-2', [ParentedNormalTree('S|<>-10', [ParentedNormalTree('S|<>-1', [ParentedNormalTree('S|<>-9', [ParentedNormalTree('S-3', [ParentedNormalTree('NP-19', [ParentedNormalTree('NP|<>-1', [ParentedNormalTree('NP|<>-20', [ParentedNormalTree('DT-0', ['a']), ParentedNormalTree('NNP-6', ['sec'])]), ParentedNormalTree('NN-0', ['proposal'])]), ParentedNormalTree('S+VP-1', [ParentedNormalTree('TO-0', ['to']), ParentedNormalTree('VP-0', [ParentedNormalTree('VB-1', ['ease']), ParentedNormalTree('NP-30', [ParentedNormalTree('NP-3', [ParentedNormalTree('NN-6', ['reporting']), ParentedNormalTree('NNS-3', ['requirements'])]), ParentedNormalTree('PP-6', [ParentedNormalTree('IN-2', ['for']), ParentedNormalTree('NP-31', [ParentedNormalTree('NP|<>-19', [ParentedNormalTree('DT-10', ['some']), ParentedNormalTree('NN-8', ['company'])]), ParentedNormalTree('NNS-1', ['executives'])])])])])])]), ParentedNormalTree('VP-11', [ParentedNormalTree('MD-0', ['would']), ParentedNormalTree('VP-12', [ParentedNormalTree('VB-0', ['undermine']), ParentedNormalTree('NP-1', [ParentedNormalTree('NP|<>-9', [ParentedNormalTree('NP-22', [ParentedNormalTree('DT-1', ['the']), ParentedNormalTree('NN-7', ['NN'])]), ParentedNormalTree('PP-2', [ParentedNormalTree('IN-10', ['of']), ParentedNormalTree('NP-23', [ParentedNormalTree('NP+NN-0', ['information']), ParentedNormalTree('PP-8', [ParentedNormalTree('IN-5', ['on']), ParentedNormalTree('NP-1', [ParentedNormalTree('NN-11', ['insider']), ParentedNormalTree('NNS-0', ['trades'])])])])])]), ParentedNormalTree('PP-7', [ParentedNormalTree('IN-10', ['as']), ParentedNormalTree('NP-31', [ParentedNormalTree('NP|<>-20', [ParentedNormalTree('DT-4', ['a']), ParentedNormalTree('JJ-1', ['JJ'])]), ParentedNormalTree('NN-11', ['tool'])])])])])])]), ParentedNormalTree(',-4', [','])]), ParentedNormalTree('NP-25', [ParentedNormalTree('NP|<>-5', [ParentedNormalTree('NP-15', [ParentedNormalTree('JJ-1', ['individual']), ParentedNormalTree('NNS-0', ['investors'])]), ParentedNormalTree('CC-2', ['and'])]), ParentedNormalTree('NP-14', [ParentedNormalTree('NP|<>-3', [ParentedNormalTree('JJ-4', ['professional']), ParentedNormalTree('NN-4', ['money'])]), ParentedNormalTree('NNS-1', ['managers'])])])]), ParentedNormalTree('VP+VBP-0', ['contend'])]), ParentedNormalTree('.-0', ['.'])])"
      ]
     },
     "execution_count": 13,
     "metadata": {},
     "output_type": "execute_result"
    }
   ],
   "source": [
    "config.train[10]"
   ]
  },
  {
   "cell_type": "code",
   "execution_count": 3,
   "metadata": {},
   "outputs": [],
   "source": [
    "from collections import defaultdict, Counter"
   ]
  },
  {
   "cell_type": "code",
   "execution_count": 4,
   "metadata": {},
   "outputs": [],
   "source": [
    "nt = Counter()\n",
    "r3 = Counter()\n",
    "r1 = Counter()"
   ]
  },
  {
   "cell_type": "code",
   "execution_count": 5,
   "metadata": {},
   "outputs": [],
   "source": [
    "for tree in config.train:\n",
    "    for node in tree.postorder():\n",
    "        nt[node.label()] += 1\n",
    "        if len(node) == 2:\n",
    "            r3[(node.label(), node[0].label(), node[1].label())] += 1\n",
    "        else:\n",
    "            r1[(node.label(), node[0])] += 1"
   ]
  },
  {
   "cell_type": "code",
   "execution_count": 31,
   "metadata": {},
   "outputs": [
    {
     "data": {
      "text/plain": [
       "Counter({'IN-6': 7619,\n",
       "         'DT-8': 10216,\n",
       "         'NNP-6': 9875,\n",
       "         'NP|<>-4': 7566,\n",
       "         'CD-4': 10533,\n",
       "         'NP|<>-14': 6296,\n",
       "         'NN-7': 8783,\n",
       "         'NP-3': 7230,\n",
       "         'IN-10': 21395,\n",
       "         '``-0': 6883,\n",
       "         'NN-5': 16659,\n",
       "         'NP-24': 10713,\n",
       "         'NP|<>-15': 9528,\n",
       "         \"''-0\": 6714,\n",
       "         'NP|<>-21': 2049,\n",
       "         'IN-5': 4989,\n",
       "         'NNP-1': 6235,\n",
       "         'POS-0': 8564,\n",
       "         'NP-20': 9303,\n",
       "         'NP|<>-2': 4530,\n",
       "         'NNP-7': 8718,\n",
       "         'NP-29': 11329,\n",
       "         'PP-8': 6066,\n",
       "         'NP-23': 7421,\n",
       "         'PP-9': 3788,\n",
       "         '-LRB--0': 1312,\n",
       "         'PRN|<>-0': 2821,\n",
       "         'VBN-1': 13063,\n",
       "         'NNS-3': 14858,\n",
       "         'NP-13': 9358,\n",
       "         'VBP-0': 11570,\n",
       "         'DT-1': 5711,\n",
       "         'VP|<>-4': 8555,\n",
       "         'IN-0': 7826,\n",
       "         'NNP-5': 9006,\n",
       "         'PP-0': 6665,\n",
       "         'VP-12': 5905,\n",
       "         'S-1': 6100,\n",
       "         ',-4': 17342,\n",
       "         'NN-3': 11425,\n",
       "         'CC-2': 13333,\n",
       "         'NNS-1': 12126,\n",
       "         'NP-9': 3556,\n",
       "         '-RRB--0': 1319,\n",
       "         'PRN-0': 2273,\n",
       "         'NP-19': 14696,\n",
       "         'PP-13': 8795,\n",
       "         'S|<>-9': 6977,\n",
       "         'DT-10': 13318,\n",
       "         'NN-1': 11373,\n",
       "         'IN-3': 5591,\n",
       "         'NP+NNP-0': 12339,\n",
       "         'PP-1': 5949,\n",
       "         'NP-8': 6322,\n",
       "         ',-3': 13504,\n",
       "         'NP|<>-7': 5567,\n",
       "         'VP-16': 7603,\n",
       "         ',-1': 4857,\n",
       "         'NP-25': 9049,\n",
       "         'S|<>-10': 25600,\n",
       "         'VBD-2': 23005,\n",
       "         'ADVP+RB-0': 6629,\n",
       "         'VBN-0': 4710,\n",
       "         'VP|<>-5': 6423,\n",
       "         'TO-0': 21832,\n",
       "         'VP-6': 3619,\n",
       "         'VP-21': 5566,\n",
       "         '.-0': 38753,\n",
       "         'S-5': 29631,\n",
       "         'NNP-8': 4324,\n",
       "         'VBZ-1': 6175,\n",
       "         'VP-13': 5204,\n",
       "         'S|<>-2': 9991,\n",
       "         'NNPS-0': 2378,\n",
       "         'NP|<>-6': 5855,\n",
       "         'NNP-4': 9584,\n",
       "         'NP-28': 2357,\n",
       "         'NP+PRP-1': 14345,\n",
       "         'VBZ-0': 7678,\n",
       "         'PRP$-0': 8209,\n",
       "         'NP|<>-1': 6642,\n",
       "         'NP-6': 12004,\n",
       "         'VB-2': 15294,\n",
       "         'ADJP+JJ-0': 2843,\n",
       "         'VP|<>-1': 4762,\n",
       "         'IN-9': 13435,\n",
       "         'QP-0': 3445,\n",
       "         'NNS-2': 5086,\n",
       "         'NP-22': 6596,\n",
       "         'PP-5': 6388,\n",
       "         'VP|<>-3': 2525,\n",
       "         'IN-4': 9643,\n",
       "         'NP+CD-0': 3614,\n",
       "         'PP-14': 7357,\n",
       "         'VP-3': 5612,\n",
       "         'VP-11': 5273,\n",
       "         'SBAR+S-0': 6455,\n",
       "         'VP-15': 8605,\n",
       "         'NP|<>-20': 15670,\n",
       "         'NN-2': 7387,\n",
       "         'NN-0': 7995,\n",
       "         'NP-14': 8884,\n",
       "         'JJ-0': 21167,\n",
       "         'NP-15': 11539,\n",
       "         'S|<>-3': 7217,\n",
       "         'VBD-0': 3695,\n",
       "         'CD-1': 5845,\n",
       "         'NP-5': 8413,\n",
       "         'DT-3': 9046,\n",
       "         'PP-12': 3973,\n",
       "         'VP-2': 4521,\n",
       "         'NNP-3': 12335,\n",
       "         'NP|<>-5': 5296,\n",
       "         'NP+NN-0': 13307,\n",
       "         'JJ-2': 11695,\n",
       "         'NN-4': 6298,\n",
       "         'NP|<>-0': 6353,\n",
       "         'NP|<>-10': 6003,\n",
       "         'NN-11': 14587,\n",
       "         'PP-4': 4057,\n",
       "         'NP|<>-3': 8281,\n",
       "         'NP-31': 7371,\n",
       "         'PP-6': 5869,\n",
       "         'PP|<>-0': 3632,\n",
       "         'JJ-4': 8949,\n",
       "         'ADJP-0': 9582,\n",
       "         'PP-10': 3414,\n",
       "         'PP-2': 5103,\n",
       "         'NNP-2': 7677,\n",
       "         'CD-2': 5342,\n",
       "         'NP-7': 3169,\n",
       "         'VP|<>-7': 7464,\n",
       "         'NN-10': 7035,\n",
       "         'NP-11': 6752,\n",
       "         'S|<>-0': 8062,\n",
       "         'DT-6': 7460,\n",
       "         'MD-0': 9537,\n",
       "         'VB-0': 4978,\n",
       "         'VP-19': 1010,\n",
       "         'DT-5': 8017,\n",
       "         'VBZ-2': 5129,\n",
       "         'RB-0': 15822,\n",
       "         'VP|<>-8': 7150,\n",
       "         'VP+VBN-0': 1591,\n",
       "         'VP-18': 5296,\n",
       "         ',-0': 2883,\n",
       "         'IN-2': 7168,\n",
       "         'CC-0': 4841,\n",
       "         'JJ-1': 12406,\n",
       "         'UCP|<>-0': 759,\n",
       "         'NN-6': 7940,\n",
       "         'UCP-0': 473,\n",
       "         'NNS-0': 13492,\n",
       "         'S|<>-1': 6966,\n",
       "         'NP+NNS-0': 13052,\n",
       "         'VBG-0': 13954,\n",
       "         'NP|<>-17': 10402,\n",
       "         'NP|<>-9': 6081,\n",
       "         'NNP-9': 6935,\n",
       "         'NP|<>-8': 8356,\n",
       "         'NP|<>-11': 5016,\n",
       "         'NP-30': 18247,\n",
       "         'PP-11': 8956,\n",
       "         'NP-16': 4694,\n",
       "         'VP-1': 5020,\n",
       "         'S-0': 4251,\n",
       "         'VP-9': 6748,\n",
       "         'S|<>-4': 7625,\n",
       "         'DT-0': 4604,\n",
       "         'VB-1': 4167,\n",
       "         'NN-8': 6879,\n",
       "         'NP|<>-19': 6132,\n",
       "         'VP-0': 4791,\n",
       "         'S+VP-1': 9986,\n",
       "         'NP-1': 7872,\n",
       "         'DT-4': 7862,\n",
       "         'PP-7': 2779,\n",
       "         'S-3': 9038,\n",
       "         'VP+VBP-0': 584,\n",
       "         'S-2': 13981,\n",
       "         'VP-4': 5457,\n",
       "         'WHNP+IN-0': 335,\n",
       "         'SBAR|<>-0': 1321,\n",
       "         'JJ-3': 1854,\n",
       "         'NP-10': 4154,\n",
       "         'S+VP-0': 7589,\n",
       "         'VP-8': 4392,\n",
       "         'SBAR-0': 6899,\n",
       "         'DT-7': 4898,\n",
       "         'ADVP+RB-1': 7277,\n",
       "         'VP|<>-6': 6603,\n",
       "         'ADVP+RBR-0': 258,\n",
       "         'ADVP|<>-0': 747,\n",
       "         'RBR-0': 1418,\n",
       "         'ADVP-0': 4585,\n",
       "         'VP-10': 5147,\n",
       "         'NP+JJ-0': 501,\n",
       "         'IN-8': 6581,\n",
       "         'VP|<>-2': 7492,\n",
       "         'CD-0': 5045,\n",
       "         'VP-7': 3768,\n",
       "         'VP-14': 5129,\n",
       "         ':-0': 4606,\n",
       "         'S|<>-6': 6418,\n",
       "         'CC-1': 5185,\n",
       "         'PP-3': 5796,\n",
       "         'NP-12': 4657,\n",
       "         'NP-17': 7027,\n",
       "         'SBAR-1': 12446,\n",
       "         'NP|<>-16': 5956,\n",
       "         'PP-15': 7591,\n",
       "         'SINV|<>-0': 1473,\n",
       "         ',-2': 8989,\n",
       "         'SINV|<>-1': 6021,\n",
       "         'VP+VBD-0': 2587,\n",
       "         'NNP-0': 2827,\n",
       "         'NP-21': 5985,\n",
       "         'NP|<>-12': 7552,\n",
       "         'NP-4': 2162,\n",
       "         'IN-7': 4827,\n",
       "         'SINV-0': 1938,\n",
       "         'S|<>-5': 1220,\n",
       "         'NP-0': 5761,\n",
       "         'VP-17': 2270,\n",
       "         'NP-2': 6224,\n",
       "         'VP-5': 5726,\n",
       "         'VP|<>-0': 4190,\n",
       "         'NP-26': 6953,\n",
       "         'WHNP+WP-0': 2197,\n",
       "         'DT-2': 4887,\n",
       "         'S+VP-2': 3898,\n",
       "         'WHNP+WDT-0': 4036,\n",
       "         'JJR-0': 2642,\n",
       "         'NN-9': 10548,\n",
       "         'IN-1': 6544,\n",
       "         'NP+NNPS-0': 251,\n",
       "         'NP-27': 2580,\n",
       "         'VP-20': 4277,\n",
       "         'PP+TO-0': 36,\n",
       "         'ADVP+RBS-0': 32,\n",
       "         'QP|<>-0': 8949,\n",
       "         'NP+JJR-0': 153,\n",
       "         'RBS-0': 392,\n",
       "         'ADJP|<>-0': 2642,\n",
       "         'FRAG-0': 323,\n",
       "         'DT-9': 1752,\n",
       "         'NAC|<>-0': 598,\n",
       "         'NAC-0': 399,\n",
       "         'JJS-0': 1668,\n",
       "         '$-0': 7272,\n",
       "         'CD-3': 5552,\n",
       "         'NP+QP-0': 5154,\n",
       "         'PRT+RP-0': 2415,\n",
       "         'S+PP-0': 26,\n",
       "         'VP+VB-0': 1262,\n",
       "         'NP|<>-13': 1173,\n",
       "         'S+NP-0': 341,\n",
       "         'NP+PRP-0': 2490,\n",
       "         'VP+VBZ-0': 2180,\n",
       "         'RP-0': 83,\n",
       "         'NX-0': 954,\n",
       "         'FRAG|<>-0': 612,\n",
       "         'NP-18': 3539,\n",
       "         'NX+NN-0': 142,\n",
       "         'NP|<>-18': 313,\n",
       "         'PP+IN-0': 221,\n",
       "         'S+ADJP-0': 145,\n",
       "         'ADJP+RB-0': 92,\n",
       "         'WHPP-0': 359,\n",
       "         'S|<>-7': 451,\n",
       "         'FW-0': 193,\n",
       "         'SBAR+S+VP-0': 1285,\n",
       "         'SBAR+SINV-0': 31,\n",
       "         'NP+WDT-0': 52,\n",
       "         'NP+DT-0': 2278,\n",
       "         'SQ|<>-0': 500,\n",
       "         'WHADVP+WRB-0': 1870,\n",
       "         'SQ-0': 279,\n",
       "         'NX|<>-0': 708,\n",
       "         'SQ+VP-0': 40,\n",
       "         'SBARQ|<>-0': 248,\n",
       "         'SBARQ-0': 180,\n",
       "         'JJ-5': 300,\n",
       "         'NP+FW-0': 26,\n",
       "         'S+ADJP+JJ-0': 145,\n",
       "         'WRB-0': 182,\n",
       "         'WHADVP-0': 95,\n",
       "         'NP+EX-0': 847,\n",
       "         'NP+RB-0': 273,\n",
       "         'CONJP-0': 295,\n",
       "         'ADJP+QP-0': 690,\n",
       "         'NP+JJS-0': 209,\n",
       "         'ADJP+JJR-0': 290,\n",
       "         'FRAG+NP-0': 34,\n",
       "         'NX+NNS-0': 104,\n",
       "         'PRP-0': 101,\n",
       "         'ADVP+JJR-0': 53,\n",
       "         'WHADJP-0': 46,\n",
       "         'NP+VB-0': 70,\n",
       "         'VP+NN-0': 48,\n",
       "         'ADJP+VBN-0': 99,\n",
       "         '#-0': 142,\n",
       "         'VP+VBG-0': 321,\n",
       "         'WHNP-0': 419,\n",
       "         'CONJP|<>-0': 129,\n",
       "         'VP+JJ-0': 23,\n",
       "         'S+NP+NN-0': 21,\n",
       "         'NP+IN-0': 59,\n",
       "         'NP+VBG-0': 134,\n",
       "         'ADVP+RP-0': 64,\n",
       "         'PRN+S-0': 31,\n",
       "         'PDT-0': 350,\n",
       "         'PRT+RB-0': 79,\n",
       "         'ADJP+JJS-0': 27,\n",
       "         'ADVP+IN-0': 171,\n",
       "         'WDT-0': 81,\n",
       "         'INTJ+UH-0': 62,\n",
       "         'WP$-0': 166,\n",
       "         'X-0': 86,\n",
       "         'NP+PRP$-0': 22,\n",
       "         'S+VP+VBN-0': 68,\n",
       "         'WP-0': 48,\n",
       "         'FRAG+ADJP+JJ-0': 19,\n",
       "         'ADVP+NN-0': 41,\n",
       "         'S+NP+NNP-0': 26,\n",
       "         'S+VP+TO-0': 20,\n",
       "         'WHADVP+IN-0': 29,\n",
       "         'WHNP|<>-0': 144,\n",
       "         'S+VP+VBG-0': 90,\n",
       "         'RRC-0': 41,\n",
       "         'VP+PP-0': 27,\n",
       "         'WHNP+DT-0': 59,\n",
       "         'ADVP+JJ-0': 139,\n",
       "         'NX+NNP-0': 41,\n",
       "         'ADJP+VBG-0': 28,\n",
       "         'VP+MD-0': 56,\n",
       "         'WHADVP|<>-0': 16,\n",
       "         'NP+RBR-0': 24,\n",
       "         'ADVP+NNP-0': 24,\n",
       "         'ADVP+DT-0': 26,\n",
       "         'X|<>-0': 71,\n",
       "         'ADJP+RBR-0': 28,\n",
       "         'TO-1': 4,\n",
       "         'X+SYM-0': 39,\n",
       "         'PRT+IN-0': 63,\n",
       "         'UH-0': 16,\n",
       "         'INTJ-0': 13,\n",
       "         'S|<>-8': 5,\n",
       "         'ADJP+NN-0': 22,\n",
       "         'LS-0': 18,\n",
       "         'LST-0': 18})"
      ]
     },
     "execution_count": 31,
     "metadata": {},
     "output_type": "execute_result"
    }
   ],
   "source": [
    "nt"
   ]
  },
  {
   "cell_type": "code",
   "execution_count": 27,
   "metadata": {},
   "outputs": [],
   "source": [
    "ink = []\n",
    "for tree in config.train:\n",
    "    for node in tree.postorder():\n",
    "        if 'VBN' in node.label():\n",
    "            ink.append(node)"
   ]
  },
  {
   "cell_type": "code",
   "execution_count": 28,
   "metadata": {},
   "outputs": [
    {
     "data": {
      "image/png": "[encoded data removed]",
      "text/plain": [
       "ParentedNormalTree('S-1', [ParentedNormalTree('NP-13', [ParentedNormalTree('VBN-1', ['VBN']), ParentedNormalTree('NNS-3', ['NNS'])]), ParentedNormalTree('VP-12', [ParentedNormalTree('VP|<>-4', [ParentedNormalTree('VBP-0', ['take']), ParentedNormalTree('NP-24', [ParentedNormalTree('DT-1', ['the']), ParentedNormalTree('NN-5', ['stage'])])]), ParentedNormalTree('PP-0', [ParentedNormalTree('IN-0', ['in']), ParentedNormalTree('NP-20', [ParentedNormalTree('NNP-5', ['NNP']), ParentedNormalTree('NNP-7', ['city'])])])])])"
      ]
     },
     "execution_count": 28,
     "metadata": {},
     "output_type": "execute_result"
    }
   ],
   "source": [
    "ink[0].parent().parent()"
   ]
  },
  {
   "cell_type": "code",
   "execution_count": 30,
   "metadata": {},
   "outputs": [
    {
     "data": {
      "image/png": "[encoded data removed]",
      "text/plain": [
       "ParentedNormalTree('NP|<>-2', [ParentedNormalTree('NP|<>-7', [ParentedNormalTree('NP-8', [ParentedNormalTree('NP-3', [ParentedNormalTree('DT-10', ['the']), ParentedNormalTree('NN-1', ['role'])]), ParentedNormalTree('PP-1', [ParentedNormalTree('IN-3', ['of']), ParentedNormalTree('NP+NNP-0', ['NNP'])])]), ParentedNormalTree(',-3', [','])]), ParentedNormalTree('VP-16', [ParentedNormalTree('VBN-1', ['played']), ParentedNormalTree('PP-1', [ParentedNormalTree('IN-10', ['by']), ParentedNormalTree('NP-20', [ParentedNormalTree('NNP-5', ['kim']), ParentedNormalTree('NNP-7', ['NNP'])])])])])"
      ]
     },
     "execution_count": 30,
     "metadata": {},
     "output_type": "execute_result"
    }
   ],
   "source": [
    "ink[1].parent().parent()"
   ]
  },
  {
   "cell_type": "code",
   "execution_count": 23,
   "metadata": {},
   "outputs": [
    {
     "data": {
      "text/plain": [
       "351"
      ]
     },
     "execution_count": 23,
     "metadata": {},
     "output_type": "execute_result"
    }
   ],
   "source": [
    "len(nt)"
   ]
  },
  {
   "cell_type": "code",
   "execution_count": 25,
   "metadata": {},
   "outputs": [
    {
     "data": {
      "text/plain": [
       "59797"
      ]
     },
     "execution_count": 25,
     "metadata": {},
     "output_type": "execute_result"
    }
   ],
   "source": [
    "len(r3)"
   ]
  },
  {
   "cell_type": "code",
   "execution_count": 26,
   "metadata": {},
   "outputs": [
    {
     "data": {
      "text/plain": [
       "66695"
      ]
     },
     "execution_count": 26,
     "metadata": {},
     "output_type": "execute_result"
    }
   ],
   "source": [
    "len(r1)"
   ]
  },
  {
   "cell_type": "code",
   "execution_count": null,
   "metadata": {},
   "outputs": [],
   "source": []
  }
 ],
 "metadata": {
  "kernelspec": {
   "display_name": "Python 3",
   "language": "python",
   "name": "python3"
  },
  "language_info": {
   "codemirror_mode": {
    "name": "ipython",
    "version": 3
   },
   "file_extension": ".py",
   "mimetype": "text/x-python",
   "name": "python",
   "nbconvert_exporter": "python",
   "pygments_lexer": "ipython3",
   "version": "3.8.5"
  }
 },
 "nbformat": 4,
 "nbformat_minor": 4
}
